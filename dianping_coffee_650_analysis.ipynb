{
 "cells": [
  {
   "cell_type": "code",
   "execution_count": null,
   "metadata": {
    "collapsed": true
   },
   "outputs": [],
   "source": [
    "import pandas as pd\n",
    "import numpy as np\n",
    "import matplotlib.pyplot as plt\n",
    "import seaborn as sns\n",
    "\n",
    "data = pd.read_excel('your_file_name.xlsx')\n",
    "\n",
    "#进行数据清洗：先把前面的人民币符号去掉便于进行数据可视化！\n",
    "data['mean-price'] = data['mean-price'].replace('￥','')\n",
    "#再因为人均消费栏存在缺失值，所以进行相邻值填充\n",
    "data['mean-price'] = data['mean-price'].fillna(method='bfill') #这里选择的是相邻值填充的后值bfill法，相对合理\n",
    "data['mean-price'] = data['mean-price'].astype(int)\n",
    "#print(data['mean-price'][168:172])\n",
    "\n",
    "#重新保存到原始表格中生成新的数据表\n",
    "data.to_excel('your_file_name.xlsx',sheet_name='大众点评成都咖啡店650家信息')"
   ]
  },
  {
   "cell_type": "code",
   "execution_count": null,
   "metadata": {
    "collapsed": true
   },
   "outputs": [],
   "source": [
    "data.describe()"
   ]
  },
  {
   "cell_type": "code",
   "execution_count": null,
   "metadata": {
    "collapsed": true
   },
   "outputs": [],
   "source": [
    "#看哪个区的咖啡店数量最多\n",
    "plt.rcParams['font.sans-serif']=['SimHei'] \n",
    "plt.figure(figsize=(12,10)) \n",
    "data['area'] .value_counts().plot.bar() \n",
    "plt.show()"
   ]
  },
  {
   "cell_type": "code",
   "execution_count": null,
   "metadata": {
    "collapsed": true
   },
   "outputs": [],
   "source": [
    "# -*- coding: utf-8 -*-\n",
    "#可视化区域地图，生成html文件，在浏览器里面查看\n",
    "from pyecharts.charts import Map\n",
    "from pyecharts import options as opts\n",
    "\n",
    "# 成都市行政区划分\n",
    "chengdu = {'武侯区': 191, '锦江区': 155, '青羊区': 75,\n",
    "           '成华区': 58, '金牛区': 38, '双流区': 36,\n",
    "           '郫都区': 19, '温江区': 18, '龙泉驿区': 14,\n",
    "           '新都区': 14, '都江堰市': 10, '金堂县': 5,\n",
    "           '青白江区': 5, '大邑县': 3, '简阳市': 3,\n",
    "           '蒲江县': 3, '彭州市': 2, '邛崃市': 1\n",
    "          }\n",
    "\n",
    "map = Map()\n",
    "map.set_global_opts(\n",
    "    title_opts=opts.TitleOpts(title=\"大众点评成都前650家咖啡店地区分布图\"),\n",
    "    #datazoom_opts = opts.DataZoomOpts(is_zoom_lock=False)  #区域缩放配置\n",
    "    visualmap_opts=opts.VisualMapOpts(max_=3600, is_piecewise=True,\n",
    "                                      pieces=[\n",
    "                                        {\"max\": 200, \"min\": 181, \"label\": \">180\", \"color\": \"#E74C3C\"},\n",
    "                                        {\"max\": 180, \"min\": 100, \"label\": \"180-100\", \"color\": \"#5DADE2\"},\n",
    "                                        {\"max\": 99, \"min\": 51, \"label\": \"99-51\", \"color\": \"#F5B041\"},\n",
    "                                        {\"max\": 50, \"min\": 21, \"label\": \"50-21\", \"color\": \"#F4D03F\"},\n",
    "                                        {\"max\": 20, \"min\": 11, \"label\": \"20-11\", \"color\": \"#F5B7B1\"},\n",
    "                                        {\"max\": 10, \"min\": 0, \"label\": \"10-0\", \"color\": \"#FFFFFF\"},\n",
    "                                        ], )  #最大数据范围，分段\n",
    "    )\n",
    "map.add(\"成都咖啡店地址分布图\", data_pair=chengdu.items(), maptype=\"成都\", is_roam=True, zoom=1.2) #最后这个zoom是当前视角的缩放比例\n",
    "map.render('大众点评成都650咖啡店分布图.html')\n",
    "\n",
    "#如果不想在浏览器查看，可以直接在jupyter notebook里面输出，使用如下命令即可：\n",
    "#map.render_notebook()"
   ]
  },
  {
   "cell_type": "code",
   "execution_count": null,
   "metadata": {
    "collapsed": true
   },
   "outputs": [],
   "source": [
    "#对各指标进行一个整体的直方图可视化：先是人均消费\n",
    "plt.figure(figsize=(12,10))\n",
    "sns.distplot(data['mean-price'],kde=True,rug=True,color='r')\n",
    "plt.show()"
   ]
  },
  {
   "cell_type": "code",
   "execution_count": null,
   "metadata": {
    "collapsed": true
   },
   "outputs": [],
   "source": [
    "#现在我们去除那些大于100的异常咖啡厅数值，重新来算人均消费的平均值\n",
    "data1 =data.copy()\n",
    "#data1\n",
    "data1 = data1[data1['mean-price']<=100] #筛选某一列里面的部分数据的方法\n",
    "data1.sort_values(by='mean-price',ascending=False)\n",
    "data1.describe()"
   ]
  },
  {
   "cell_type": "code",
   "execution_count": null,
   "metadata": {
    "collapsed": true
   },
   "outputs": [],
   "source": [
    "#再次查看人均消费的价格分布\n",
    "plt.figure(figsize=(12,10))\n",
    "sns.distplot(data1['mean-price'],kde=True,rug=True,color='b')\n",
    "plt.show()"
   ]
  },
  {
   "cell_type": "code",
   "execution_count": null,
   "metadata": {
    "collapsed": true
   },
   "outputs": [],
   "source": [
    "#对点评数进行一个直方图显示，可以看出500以下的评论数最多\n",
    "plt.figure(figsize=(15,10))\n",
    "sns.distplot(data['review-num'],kde=True,rug=True,color='g')\n",
    "plt.show()"
   ]
  },
  {
   "cell_type": "code",
   "execution_count": null,
   "metadata": {
    "collapsed": true
   },
   "outputs": [],
   "source": [
    "data.sort_values(by='review-num',ascending=False)[:10]"
   ]
  },
  {
   "cell_type": "code",
   "execution_count": null,
   "metadata": {
    "collapsed": true
   },
   "outputs": [],
   "source": [
    "#统计推荐菜里面重复次数最高的饮品\n",
    "#但是这个是整体统计的，并不是单个推荐菜的次数\n",
    "data['recommend'].value_counts()"
   ]
  },
  {
   "cell_type": "code",
   "execution_count": null,
   "metadata": {
    "collapsed": true
   },
   "outputs": [],
   "source": [
    "def sum_recommend():\n",
    "    sum_rec = data['recommend'][0]\n",
    "    try:\n",
    "        for i in range(650):\n",
    "            sum_rec = sum_rec + ',' + data['recommend'][i+1]\n",
    "    except TypeError:\n",
    "        pass\n",
    "    return sum_rec\n",
    "\n",
    "if __name__ == '__main__':\n",
    "    rec = sum_recommend()\n",
    "    rec = rec.split(',') #再把字符串转换成列表方便统计数量\n",
    "    rec_count = pd.value_counts(rec) #然后统计哪个饮品出现次数最多\n",
    "    #print(rec_count)\n",
    "    plt.rcParams['font.sans-serif']=['SimHei'] \n",
    "    plt.figure(figsize=(12,10)) \n",
    "    rec_count[:10].plot.barh(color='c') \n",
    "    plt.show()"
   ]
  },
  {
   "cell_type": "code",
   "execution_count": null,
   "metadata": {
    "collapsed": true
   },
   "outputs": [],
   "source": [
    "#下面进行词云图的生成\n",
    "#-*- coding:utf-8 -*-\n",
    "from wordcloud import WordCloud,ImageColorGenerator\n",
    "#词云库\n",
    "import PIL.Image as Image\n",
    "import jieba\n",
    "import jieba.analyse\n",
    "import os\n",
    "from os import path\n",
    "\n",
    "rec1 = rec\n",
    "jieba = ' '.join(rec1)\n",
    "#jieba分词，cut_all=False 表示采用分词的精确模式\n",
    "#jieba = ' '.join(jieba.cut(rec1,cut_all = 'False'))\n",
    "#采用TF-IDF算法来分词\n",
    "#jieba = ' '.join(jieba.analyse.extract_tags(rec1, topK=20, withWeight=False, allowPOS=()))\n",
    "\n",
    "cp = np.array(Image.open('卡布.jpg'))\n",
    "\n",
    "wordcloud = WordCloud(background_color='white', max_words=2000, mask=cp,\n",
    "                         max_font_size=40, random_state=42, font_path='./SimHei.ttf').generate(jieba)\n",
    "\n",
    "#基于彩色的图片生成相应的色彩\n",
    "image_colors = ImageColorGenerator(cp)\n",
    "\n",
    "plt.imshow(wordcloud.recolor(color_func=image_colors))\n",
    "plt.axis('off')\n",
    "plt.show()\n",
    "\n",
    "wordcloud.to_file(os.path.join('coffee_k.jpg'))"
   ]
  },
  {
   "cell_type": "code",
   "execution_count": null,
   "metadata": {
    "collapsed": true
   },
   "outputs": [],
   "source": [
    "#接着也对口味、环境、服务这几个方面也进行一个直方图的显示\n",
    "plt.figure(figsize=(15,10))\n",
    "sns.distplot(data['taste-num'],kde=True,rug=True,color='b')\n",
    "plt.show()"
   ]
  },
  {
   "cell_type": "code",
   "execution_count": null,
   "metadata": {
    "collapsed": true
   },
   "outputs": [],
   "source": [
    "#环境分\n",
    "plt.figure(figsize=(15,10))\n",
    "sns.distplot(data['envir-num'],kde=True,rug=True,color='y')\n",
    "plt.show()"
   ]
  },
  {
   "cell_type": "code",
   "execution_count": null,
   "metadata": {
    "collapsed": true
   },
   "outputs": [],
   "source": [
    "#服务分\n",
    "plt.figure(figsize=(15,10))\n",
    "sns.distplot(data['service-num'],kde=True,rug=True,color='m')\n",
    "plt.show()"
   ]
  },
  {
   "cell_type": "code",
   "execution_count": null,
   "metadata": {
    "collapsed": true
   },
   "outputs": [],
   "source": [
    "data4 = pd.pivot_table(data, index=['name'], values=['taste-num','envir-num','service-num']) #生成评分的数据透视表\n",
    "data4"
   ]
  },
  {
   "cell_type": "code",
   "execution_count": null,
   "metadata": {
    "collapsed": true
   },
   "outputs": [],
   "source": [
    "#综合口味、服务、环境三项的得分后平均分排列前10的咖啡店\n",
    "data4.sort_values(by=['taste-num','envir-num','service-num'],ascending=False)[:10] "
   ]
  },
  {
   "cell_type": "code",
   "execution_count": null,
   "metadata": {
    "collapsed": true
   },
   "outputs": [],
   "source": [
    "#650家店里面评分最差的10家咖啡店\n",
    "data4.sort_values(by=['taste-num','envir-num','service-num'])[:10] "
   ]
  },
  {
   "cell_type": "code",
   "execution_count": null,
   "metadata": {
    "collapsed": true
   },
   "outputs": [],
   "source": [
    "#下面进行多变量分析\n",
    "#这个有点牛逼，一行代码直接甩出数据集里面的任意两个变量之间的关系\n",
    "sns.pairplot(data)"
   ]
  },
  {
   "cell_type": "code",
   "execution_count": null,
   "metadata": {
    "collapsed": true
   },
   "outputs": [],
   "source": [
    "#如果想对分类变量进行着色，让这个矩阵更易理解,也只需要一行代码:这里采用area分类变量\n",
    "plt.rcParams['font.sans-serif']=['SimHei'] \n",
    "sns.pairplot(data, hue='area')"
   ]
  },
  {
   "cell_type": "code",
   "execution_count": null,
   "metadata": {
    "collapsed": true
   },
   "outputs": [],
   "source": [
    "#加入趋势线\n",
    "sns.pairplot(data, kind='reg')"
   ]
  },
  {
   "cell_type": "code",
   "execution_count": null,
   "metadata": {
    "collapsed": true
   },
   "outputs": [],
   "source": []
  }
 ],
 "metadata": {
  "kernelspec": {
   "display_name": "Python [default]",
   "language": "python",
   "name": "python3"
  },
  "language_info": {
   "codemirror_mode": {
    "name": "ipython",
    "version": 3
   },
   "file_extension": ".py",
   "mimetype": "text/x-python",
   "name": "python",
   "nbconvert_exporter": "python",
   "pygments_lexer": "ipython3",
   "version": "3.6.2"
  }
 },
 "nbformat": 4,
 "nbformat_minor": 4
}
